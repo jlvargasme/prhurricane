{
 "cells": [
  {
   "cell_type": "markdown",
   "metadata": {},
   "source": [
    "# Sample NDVI visualization script\n",
    "\n",
    "1. Import geemap and geetools\n",
    "2. Display map on screen\n",
    "3. Load desired shapefile and add to map\n",
    "4. Filter Landsat 8 image colletion to region of interest and target range\n",
    "5. Apply cloud mask, calculate NDVI and add results to the map\n",
    "6. Retrieve individual mean NDVI value\n",
    "7. Retrieve individual image dates\n",
    "8. Plot mean NDVI vs dates**\n",
    "    \n",
    "**Note: the graph shown here has the approximate NDVI dates, for accurate results consult the javascript file**"
   ]
  },
  {
   "cell_type": "markdown",
   "metadata": {},
   "source": [
    "## 1. Import geemap, geotools and other libraries"
   ]
  },
  {
   "cell_type": "code",
   "execution_count": 1,
   "metadata": {},
   "outputs": [],
   "source": [
    "import os\n",
    "import ee\n",
    "import geetools as chart\n",
    "import geemap\n",
    "import matplotlib.pyplot as plt\n",
    "import ipywidgets as widgets\n",
    "import time\n"
   ]
  },
  {
   "cell_type": "markdown",
   "metadata": {},
   "source": [
    "## 2. Display map on screen"
   ]
  },
  {
   "cell_type": "code",
   "execution_count": 20,
   "metadata": {},
   "outputs": [
    {
     "data": {
      "application/vnd.jupyter.widget-view+json": {
       "model_id": "d9e71acfc7cf4b85be69b4f5a056b955",
       "version_major": 2,
       "version_minor": 0
      },
      "text/plain": [
       "Map(center=[40, -100], controls=(WidgetControl(options=['position'], widget=HBox(children=(ToggleButton(value=…"
      ]
     },
     "metadata": {},
     "output_type": "display_data"
    }
   ],
   "source": [
    "Map = geemap.Map()\n",
    "Map"
   ]
  },
  {
   "cell_type": "markdown",
   "metadata": {},
   "source": [
    "## 3. Load desired shapefile and add to map"
   ]
  },
  {
   "cell_type": "code",
   "execution_count": 23,
   "metadata": {
    "scrolled": true
   },
   "outputs": [],
   "source": [
    "## add desired farm path\n",
    "farm_shp = \"C:\\\\Users\\\\Wormface\\\\Desktop\\\\University of Michigan\\\\Academics\\\\3. Summer 2020\\\\ESA - Research\\\\Bella Paper\\\\Boundary NDVI\\\\Shapefiles by Class\\\\Artemio\\\\A\\\\Artemio_A.shp\"\n",
    "farm = geemap.shp_to_ee(farm_shp)               ## import shapefile as Google Earth Engine object\n",
    "region = farm.geometry()                        ## get object boundaries\n",
    "Map.addLayer(farm, {'color': 'red'}, 'Farm')    ## add to map with specified color and label\n",
    "Map.centerObject(region, 10);                   ## center object in map"
   ]
  },
  {
   "cell_type": "markdown",
   "metadata": {},
   "source": [
    "## 4. Filter Landsat 8 image colletion to region of interest and target range"
   ]
  },
  {
   "cell_type": "code",
   "execution_count": 42,
   "metadata": {},
   "outputs": [],
   "source": [
    "## for other image collections visit \"https://developers.google.com/earth-engine/datasets\"\n",
    "l8collection = ee.ImageCollection('LANDSAT/LC08/C01/T1_SR').filterDate('2017-01-01','2018-03-01').filterBounds(region);"
   ]
  },
  {
   "cell_type": "markdown",
   "metadata": {},
   "source": [
    "## 5. Apply cloud mask, calculate NDVI and add results to the map"
   ]
  },
  {
   "cell_type": "code",
   "execution_count": 43,
   "metadata": {},
   "outputs": [],
   "source": [
    "visParams = {'bands': ['B4','B3','B2'], 'min': 150, 'max': 2000}  # define visualization parameters\n",
    "\n",
    "# apply cloud mask on pixel 322\n",
    "# clear terrain, low confidence cloud and low confidence cirrus.\n",
    "# check Landsat 8 Product Guide\n",
    "# \"https://www.usgs.gov/media/files/landsat-8-collection-1-land-surface-reflectance-code-product-guide\"\n",
    "l8masked = l8collection.map(lambda image: image.updateMask(image.select('pixel_qa').eq(322)));  \n",
    "\n",
    "# Calculate NDVI\n",
    "l8ndvi = l8masked.map(lambda img : img.addBands(img.normalizedDifference(['B5','B4']).rename('NDVI')))\n",
    "\n",
    "# Add new layers to map\n",
    "Map.addLayer(ee.Image(l8masked.first()), visParams, 'clouds masked')\n",
    "Map.addLayer(ee.Image(l8collection.first()), visParams, 'original')\n",
    "composite = l8ndvi.qualityMosaic('NDVI').clip(region);\n",
    "Map.addLayer(composite.select('NDVI'),\n",
    "           {'min': 0, 'max': 1, 'gamma':0.22}, 'ndvi');"
   ]
  },
  {
   "cell_type": "markdown",
   "metadata": {},
   "source": [
    "## 6. Retrieve individual mean NDVI value"
   ]
  },
  {
   "cell_type": "code",
   "execution_count": 44,
   "metadata": {},
   "outputs": [],
   "source": [
    "# use reducer function to filter information from object\n",
    "my_vals = l8ndvi.map(lambda img : ee.Feature(region, img.normalizedDifference(['B5', 'B4']).rename('NDVI').reduceRegion(ee.Reducer.mean(),region)))\n",
    "ndvi = my_vals.reduceColumns(ee.Reducer.toList(), ['NDVI']).get('list');\n",
    "ndvi = ndvi.getInfo()"
   ]
  },
  {
   "cell_type": "markdown",
   "metadata": {},
   "source": [
    "## 7. Retrieve individual image dates"
   ]
  },
  {
   "cell_type": "code",
   "execution_count": 45,
   "metadata": {},
   "outputs": [],
   "source": [
    "# filter image dates and converto from epoch format to Year/month/day\n",
    "dates = l8ndvi.reduceColumns(ee.Reducer.toList(), [\"system:time_start\"]).get('list')\n",
    "date_old = dates.getInfo()\n",
    "date_old.sort()\n",
    "date_update = []\n",
    "\n",
    "for date in date_old:\n",
    "    \n",
    "    date_correct = int(str(date)[:-3])\n",
    "    update = time.strftime('%Y-%m-%d', time.localtime(date_correct))\n",
    "    date_update.append(update)"
   ]
  },
  {
   "cell_type": "markdown",
   "metadata": {},
   "source": [
    "## 8. Plot mean NDVI vs dates\n",
    "**Note: actual date values are not accurate in the python script and ndvi data is not filtered for noise, for precise information consult javascript file**"
   ]
  },
  {
   "cell_type": "code",
   "execution_count": 47,
   "metadata": {
    "scrolled": true
   },
   "outputs": [
    {
     "data": {
      "image/png": "[encoded data removed]",
      "text/plain": [
       "<Figure size 432x288 with 1 Axes>"
      ]
     },
     "metadata": {
      "needs_background": "light"
     },
     "output_type": "display_data"
    }
   ],
   "source": [
    "# Timeseries NDVI plot\n",
    "fig = plt.figure()\n",
    "ax = fig.add_axes([0.1, 0.1, 0.8, 0.8])\n",
    "plt.plot(ndvi)\n",
    "ax.set_xlabel('Date')\n",
    "ax.set_ylabel('NDVI')\n",
    "ax.set_title('Timeseries NDVI')\n",
    "ticks = list(range(1,len(date_update)+1,30))\n",
    "labels = list(map(lambda el : date_update[el],ticks))\n",
    "ax.set_xticks(ticks)\n",
    "ax.set_xticklabels(labels)\n",
    "plt.show()"
   ]
  }
 ],
 "metadata": {
  "kernelspec": {
   "display_name": "Python 3",
   "language": "python",
   "name": "python3"
  },
  "language_info": {
   "codemirror_mode": {
    "name": "ipython",
    "version": 3
   },
   "file_extension": ".py",
   "mimetype": "text/x-python",
   "name": "python",
   "nbconvert_exporter": "python",
   "pygments_lexer": "ipython3",
   "version": "3.7.6"
  }
 },
 "nbformat": 4,
 "nbformat_minor": 4
}
